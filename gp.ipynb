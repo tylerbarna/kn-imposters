{
 "cells": [
  {
   "cell_type": "markdown",
   "metadata": {},
   "source": [
    "Attempting to apply a Gaussian Process, following the example notebook present in this repo"
   ]
  },
  {
   "cell_type": "markdown",
   "metadata": {},
   "source": [
    "#### Linear Interpolation\n",
    "\n",
    "This is a basic linear interpolation implementation"
   ]
  },
  {
   "cell_type": "code",
   "execution_count": 16,
   "metadata": {},
   "outputs": [
    {
     "data": {
      "text/plain": [
       "0.015    2\n",
       "0.007    2\n",
       "0.009    2\n",
       "0.021    2\n",
       "0.018    2\n",
       "        ..\n",
       "0.051    1\n",
       "0.049    1\n",
       "0.046    1\n",
       "0.043    1\n",
       "1.730    1\n",
       "Name: #, Length: 94, dtype: int64"
      ]
     },
     "metadata": {},
     "output_type": "display_data"
    },
    {
     "data": {
      "text/plain": [
       "<Axes: >"
      ]
     },
     "execution_count": 16,
     "metadata": {},
     "output_type": "execute_result"
    },
    {
     "data": {
      "image/png": "[encoded data removed]",
      "text/plain": [
       "<Figure size 640x480 with 1 Axes>"
      ]
     },
     "metadata": {},
     "output_type": "display_data"
    }
   ],
   "source": [
    "## read in files in lcs_bulla_2022 and only load in the first file as a datafrane\n",
    "\n",
    "import pandas as pd\n",
    "import glob as glob\n",
    "import numpy as np\n",
    "import os\n",
    "\n",
    "# read in the files\n",
    "files = glob.glob('lcs_bulla_2022/*.dat')\n",
    "\n",
    "time_file = pd.read_csv(files[1], sep='\\s+')\n",
    "# print(time_file)\n",
    "## print interval of # and step\n",
    "# print(time_file.columns)\n",
    "#print(time_file['#'].min(), time_file['#'].max(), time_file['#'].max() - time_file['#'].min())\n",
    "\n",
    "## print step size of # column\n",
    "display(time_file['#'].diff().value_counts())\n",
    "## plot histogram of step size\n",
    "import matplotlib.pyplot as plt\n",
    "time_file['#'].diff().hist()"
   ]
  },
  {
   "cell_type": "code",
   "execution_count": null,
   "metadata": {},
   "outputs": [],
   "source": [
    "def interpolate_lightcurve(data,start,stop,step,filter):\n",
    "    \"\"\"\n",
    "    Interpolate lightcurve data to a given time interval\n",
    "    \"\"\"\n",
    "    time = np.arange(start,stop,step)\n",
    "    interpolated_data = np.interp(time,data['t'],data[filter])\n",
    "    return time, interpolated_data"
   ]
  },
  {
   "cell_type": "code",
   "execution_count": null,
   "metadata": {},
   "outputs": [],
   "source": [
    "def interp_mjd(data,argData,data_index='time',arg_index='time'):\n",
    "    '''\n",
    "    More generalized version of interpToMatch(). Takes an argument for a reference\n",
    "    DataFrame and a variable number of DataFrames to be interpolated so that\n",
    "    they match the time sampling of the reference DataFrame. Like interpToMatch(),\n",
    "    DataFrames must have a 'time' column of an integer or float type.\n",
    "    Function returns an array containing the reference DataFrame as the first\n",
    "    item followed by the interpolated DataFrames in the order in which they were\n",
    "    passed to the function\n",
    "    '''\n",
    "    interpArray = []\n",
    "    interpArray.append(data)\n",
    "    \n",
    "    data_indexed = data.set_index(str(data_index))\n",
    "    data_length = len(data_indexed.index)\n",
    "    minun = data_indexed.index.min()\n",
    "    plusle = data_indexed.index.max()\n",
    "    newIndex = data_indexed.index\n",
    "    \n",
    "    arg_indexed = argData.set_index(str(arg_index))\n",
    "    arg_interp = pd.DataFrame(index=newIndex)\n",
    "    arg_interp.index.name = arg_indexed.index.name\n",
    "    for colname, col in arg_indexed.iteritems():\n",
    "        arg_interp[colname] = np.interp(newIndex,arg_indexed.index,col)\n",
    "    arg_interp.reset_index(inplace=True)\n",
    "    return arg_interp"
   ]
  }
 ],
 "metadata": {
  "kernelspec": {
   "display_name": "nmma_env",
   "language": "python",
   "name": "python3"
  },
  "language_info": {
   "codemirror_mode": {
    "name": "ipython",
    "version": 3
   },
   "file_extension": ".py",
   "mimetype": "text/x-python",
   "name": "python",
   "nbconvert_exporter": "python",
   "pygments_lexer": "ipython3",
   "version": "3.11.9"
  }
 },
 "nbformat": 4,
 "nbformat_minor": 2
}
